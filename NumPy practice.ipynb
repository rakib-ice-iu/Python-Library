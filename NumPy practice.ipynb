{
 "cells": [
  {
   "cell_type": "markdown",
   "id": "aacc1f7e",
   "metadata": {},
   "source": [
    "# 1D NumPy array basic operation"
   ]
  },
  {
   "cell_type": "code",
   "execution_count": 2,
   "id": "dc3d7e68",
   "metadata": {},
   "outputs": [],
   "source": [
    "import numpy as np"
   ]
  },
  {
   "cell_type": "code",
   "execution_count": 10,
   "id": "c9451201",
   "metadata": {},
   "outputs": [
    {
     "name": "stdout",
     "output_type": "stream",
     "text": [
      "[ 1 -2  3 -4  5 -6  7]\n",
      "[1 2 3 4 5 6 7]\n"
     ]
    }
   ],
   "source": [
    "#Creating NumPy array\n",
    "\n",
    "arr_1 = np.array([1,2,3,4,5,6,7])\n",
    "arr_2 = np.array([1,-2,3,-4,5,-6,7])\n",
    "\n",
    "print(arr_2)\n",
    "print(arr_1)"
   ]
  },
  {
   "cell_type": "code",
   "execution_count": 13,
   "id": "b8352887",
   "metadata": {},
   "outputs": [
    {
     "name": "stdout",
     "output_type": "stream",
     "text": [
      "[ 2  0  6  0 10  0 14]\n"
     ]
    }
   ],
   "source": [
    "# Array addition (This the addion of each element of same index of the two array and this is not matrix addition)\n",
    "\n",
    "arr_add = arr_1 + arr_2\n",
    "print(arr_add)"
   ]
  },
  {
   "cell_type": "code",
   "execution_count": 14,
   "id": "a451f55b",
   "metadata": {},
   "outputs": [
    {
     "name": "stdout",
     "output_type": "stream",
     "text": [
      "[ 0  4  0  8  0 12  0]\n"
     ]
    }
   ],
   "source": [
    "arr_sub = arr_1 - arr_2\n",
    "\n",
    "print(arr_sub)"
   ]
  },
  {
   "cell_type": "code",
   "execution_count": 17,
   "id": "c5254fda",
   "metadata": {},
   "outputs": [
    {
     "name": "stdout",
     "output_type": "stream",
     "text": [
      "[  1  -4   9 -16  25 -36  49]\n"
     ]
    }
   ],
   "source": [
    "# Array multiplication is not as like the matrix multiplication\n",
    "\n",
    "arr_mul = arr_1 * arr_2\n",
    "print(arr_mul)"
   ]
  },
  {
   "cell_type": "code",
   "execution_count": 18,
   "id": "2197967e",
   "metadata": {},
   "outputs": [
    {
     "name": "stdout",
     "output_type": "stream",
     "text": [
      "[ 1. -1.  1. -1.  1. -1.  1.]\n"
     ]
    }
   ],
   "source": [
    "arr_div = arr_1 / arr_2\n",
    "print(arr_div)"
   ]
  },
  {
   "cell_type": "markdown",
   "id": "3131efb2",
   "metadata": {},
   "source": [
    "# 2D NumPy array operation"
   ]
  },
  {
   "cell_type": "code",
   "execution_count": 22,
   "id": "3f9c7ce2",
   "metadata": {},
   "outputs": [
    {
     "name": "stdout",
     "output_type": "stream",
     "text": [
      "[[1 2 3]\n",
      " [4 5 6]]\n"
     ]
    }
   ],
   "source": [
    "arr_3 = np.array([[1,2,3],[4,5,6]])\n",
    "print(arr_3)"
   ]
  },
  {
   "cell_type": "code",
   "execution_count": 23,
   "id": "f0530ff1",
   "metadata": {},
   "outputs": [
    {
     "name": "stdout",
     "output_type": "stream",
     "text": [
      "[[1 2 3]\n",
      " [4 5 6]]\n"
     ]
    }
   ],
   "source": [
    "arr_4 = np.array([[1,2,3],[4,5,6]])\n",
    "print(arr_4)"
   ]
  },
  {
   "cell_type": "code",
   "execution_count": 25,
   "id": "9718801d",
   "metadata": {},
   "outputs": [
    {
     "name": "stdout",
     "output_type": "stream",
     "text": [
      "[[ 2  4  6]\n",
      " [ 8 10 12]]\n"
     ]
    }
   ],
   "source": [
    "# Addition of 2D array\n",
    "\n",
    "arr_add = np.add(arr_3,arr_4)\n",
    "print(arr_add)"
   ]
  },
  {
   "cell_type": "code",
   "execution_count": 26,
   "id": "de58e596",
   "metadata": {},
   "outputs": [
    {
     "name": "stdout",
     "output_type": "stream",
     "text": [
      "[[ 1  4  9]\n",
      " [16 25 36]]\n"
     ]
    }
   ],
   "source": [
    "# Multiplication of 2D array (This is not same as the multiplication of matrix)\n",
    "\n",
    "arr_mul = np.multiply(arr_3, arr_4)\n",
    "print(arr_mul)"
   ]
  },
  {
   "cell_type": "code",
   "execution_count": 28,
   "id": "eee3faad",
   "metadata": {},
   "outputs": [
    {
     "name": "stdout",
     "output_type": "stream",
     "text": [
      "[[1. 1. 1.]\n",
      " [1. 1. 1.]]\n"
     ]
    }
   ],
   "source": [
    "arr_div = np.divide(arr_3, arr_4)\n",
    "print(arr_div)"
   ]
  },
  {
   "cell_type": "markdown",
   "id": "9087ca84",
   "metadata": {},
   "source": [
    "## Matrix multiplication of 2D array"
   ]
  },
  {
   "cell_type": "code",
   "execution_count": 29,
   "id": "d2718c1f",
   "metadata": {},
   "outputs": [
    {
     "ename": "ValueError",
     "evalue": "matmul: Input operand 1 has a mismatch in its core dimension 0, with gufunc signature (n?,k),(k,m?)->(n?,m?) (size 2 is different from 3)",
     "output_type": "error",
     "traceback": [
      "\u001b[0;31m---------------------------------------------------------------------------\u001b[0m",
      "\u001b[0;31mValueError\u001b[0m                                Traceback (most recent call last)",
      "\u001b[0;32m/tmp/ipykernel_20046/2375645854.py\u001b[0m in \u001b[0;36m<module>\u001b[0;34m\u001b[0m\n\u001b[0;32m----> 1\u001b[0;31m \u001b[0marr_mat_mul\u001b[0m \u001b[0;34m=\u001b[0m \u001b[0mnp\u001b[0m\u001b[0;34m.\u001b[0m\u001b[0mmatmul\u001b[0m\u001b[0;34m(\u001b[0m\u001b[0marr_3\u001b[0m\u001b[0;34m,\u001b[0m \u001b[0marr_4\u001b[0m\u001b[0;34m)\u001b[0m\u001b[0;34m\u001b[0m\u001b[0;34m\u001b[0m\u001b[0m\n\u001b[0m",
      "\u001b[0;31mValueError\u001b[0m: matmul: Input operand 1 has a mismatch in its core dimension 0, with gufunc signature (n?,k),(k,m?)->(n?,m?) (size 2 is different from 3)"
     ]
    }
   ],
   "source": [
    "arr_mat_mul = np.matmul(arr_3, arr_4)\n"
   ]
  },
  {
   "cell_type": "code",
   "execution_count": 30,
   "id": "69a64b0a",
   "metadata": {},
   "outputs": [],
   "source": [
    "# For performing the matrix multiplication column of first matrix should be equal to row of second matrix"
   ]
  },
  {
   "cell_type": "code",
   "execution_count": 32,
   "id": "0816cd78",
   "metadata": {},
   "outputs": [
    {
     "name": "stdout",
     "output_type": "stream",
     "text": [
      "[[1 2 3]\n",
      " [4 5 6]]\n",
      "\n",
      "\n",
      "[[ 7  8]\n",
      " [ 9 10]\n",
      " [11 12]]\n"
     ]
    }
   ],
   "source": [
    "arr_5 = np.array([[1,2,3],[4,5,6]])\n",
    "arr_6 = np.array([[7,8],[9,10],[11,12]])\n",
    "\n",
    "print(arr_5)\n",
    "print(\"\\n\")\n",
    "print(arr_6)"
   ]
  },
  {
   "cell_type": "code",
   "execution_count": 33,
   "id": "f16d392e",
   "metadata": {},
   "outputs": [
    {
     "name": "stdout",
     "output_type": "stream",
     "text": [
      "[[ 58  64]\n",
      " [139 154]]\n"
     ]
    }
   ],
   "source": [
    "arr_mat_mul = np.matmul(arr_5, arr_6)\n",
    "print(arr_mat_mul)"
   ]
  },
  {
   "cell_type": "code",
   "execution_count": null,
   "id": "0a33aa60",
   "metadata": {},
   "outputs": [],
   "source": []
  }
 ],
 "metadata": {
  "kernelspec": {
   "display_name": "Python 3 (ipykernel)",
   "language": "python",
   "name": "python3"
  },
  "language_info": {
   "codemirror_mode": {
    "name": "ipython",
    "version": 3
   },
   "file_extension": ".py",
   "mimetype": "text/x-python",
   "name": "python",
   "nbconvert_exporter": "python",
   "pygments_lexer": "ipython3",
   "version": "3.9.7"
  }
 },
 "nbformat": 4,
 "nbformat_minor": 5
}
