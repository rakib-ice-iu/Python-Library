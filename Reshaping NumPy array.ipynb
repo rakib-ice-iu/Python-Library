{
 "cells": [
  {
   "cell_type": "code",
   "execution_count": 1,
   "id": "4b322050",
   "metadata": {},
   "outputs": [],
   "source": [
    "import numpy as np"
   ]
  },
  {
   "cell_type": "code",
   "execution_count": 12,
   "id": "7429e3ab",
   "metadata": {},
   "outputs": [
    {
     "name": "stdout",
     "output_type": "stream",
     "text": [
      "[61 21 68 25 85  6 99 97 63 33 59 11]\n",
      "<class 'numpy.ndarray'>\n",
      "(12,)\n",
      "1\n"
     ]
    }
   ],
   "source": [
    "arr_1 = np.random.randint(1,100,12)   # random.randint(1,100,12) create 12 random integer number between 1 to 100\n",
    "print(arr_1)\n",
    "print(type(arr_1))\n",
    "print(arr_1.shape)\n",
    "print(arr_1.ndim)"
   ]
  },
  {
   "cell_type": "markdown",
   "id": "05b2cc9a",
   "metadata": {},
   "source": [
    "### <b> converting 1D array into 2D array"
   ]
  },
  {
   "cell_type": "code",
   "execution_count": 21,
   "id": "e7665771",
   "metadata": {},
   "outputs": [
    {
     "name": "stdout",
     "output_type": "stream",
     "text": [
      "[[61 21 68 25 85  6]\n",
      " [99 97 63 33 59 11]]\n",
      "Shape of this array is (row,column) =  (2, 6)\n",
      "\n",
      "\n",
      "[[61 21 68 25]\n",
      " [85  6 99 97]\n",
      " [63 33 59 11]]\n",
      "Shape of this array is (row,column) =  (3, 4)\n",
      "\n",
      "\n",
      "[[61 21 68]\n",
      " [25 85  6]\n",
      " [99 97 63]\n",
      " [33 59 11]]\n",
      "Shape of this array is (row,column) =  (4, 3)\n",
      "\n",
      "\n",
      "[[61 21]\n",
      " [68 25]\n",
      " [85  6]\n",
      " [99 97]\n",
      " [63 33]\n",
      " [59 11]]\n",
      "Shape of this array is (row,column) =  (6, 2)\n"
     ]
    }
   ],
   "source": [
    "arr_2 = arr_1.reshape(2,6)\n",
    "print(arr_2)\n",
    "print(\"Shape of this array is (row,column) = \",arr_2.shape)\n",
    "print(\"\\n\")\n",
    "\n",
    "arr_3 = arr_1.reshape(3,4)\n",
    "print(arr_3)\n",
    "print(\"Shape of this array is (row,column) = \",arr_3.shape)\n",
    "print(\"\\n\")\n",
    "\n",
    "arr_4 = arr_1.reshape(4,3)\n",
    "print(arr_4)\n",
    "print(\"Shape of this array is (row,column) = \",arr_4.shape)\n",
    "print(\"\\n\")\n",
    "\n",
    "arr_5 = arr_1.reshape(6,2)\n",
    "print(arr_5)\n",
    "print(\"Shape of this array is (row,column) = \",arr_5.shape)"
   ]
  },
  {
   "cell_type": "markdown",
   "id": "56f8c785",
   "metadata": {},
   "source": [
    "### Converting 2D array into 1D array"
   ]
  },
  {
   "cell_type": "code",
   "execution_count": 24,
   "id": "b2addcf4",
   "metadata": {},
   "outputs": [
    {
     "name": "stdout",
     "output_type": "stream",
     "text": [
      "[61 21 68 25 85  6 99 97 63 33 59 11]\n",
      "Shape of this array is (row,column)=  (12,)\n"
     ]
    }
   ],
   "source": [
    "arr_6 = arr_2.reshape(12)\n",
    "print(arr_6)\n",
    "print(\"Shape of this array is (number of element) = \", arr_6.shape)"
   ]
  },
  {
   "cell_type": "code",
   "execution_count": 26,
   "id": "8c7949a8",
   "metadata": {},
   "outputs": [
    {
     "name": "stdout",
     "output_type": "stream",
     "text": [
      "[61 21 68 25 85  6 99 97 63 33 59 11]\n",
      "Shape of this array is (number of element) =  (12,)\n"
     ]
    }
   ],
   "source": [
    "arr_7 = arr_3.reshape(12)\n",
    "print(arr_7)\n",
    "print(\"Shape of this array is (number of element) = \", arr_7.shape)"
   ]
  },
  {
   "cell_type": "code",
   "execution_count": 27,
   "id": "38175d72",
   "metadata": {},
   "outputs": [
    {
     "name": "stdout",
     "output_type": "stream",
     "text": [
      "[61 21 68 25 85  6 99 97 63 33 59 11]\n",
      "Shape of this array is (number of element) =  (12,)\n"
     ]
    }
   ],
   "source": [
    "arr_8 = arr_4.reshape(12)\n",
    "print(arr_8)\n",
    "print(\"Shape of this array is (number of element) = \", arr_8.shape)"
   ]
  },
  {
   "cell_type": "code",
   "execution_count": 25,
   "id": "def238df",
   "metadata": {},
   "outputs": [
    {
     "name": "stdout",
     "output_type": "stream",
     "text": [
      "[61 21 68 25 85  6 99 97 63 33 59 11]\n",
      "Shape of this array is (number of element) =  (12,)\n"
     ]
    }
   ],
   "source": [
    "arr_9 = arr_5.reshape(12)\n",
    "print(arr_6)\n",
    "print(\"Shape of this array is (number of element) = \", arr_9.shape)"
   ]
  },
  {
   "cell_type": "code",
   "execution_count": null,
   "id": "e552bb21",
   "metadata": {},
   "outputs": [],
   "source": []
  },
  {
   "cell_type": "code",
   "execution_count": null,
   "id": "16c79b08",
   "metadata": {},
   "outputs": [],
   "source": []
  }
 ],
 "metadata": {
  "kernelspec": {
   "display_name": "Python 3 (ipykernel)",
   "language": "python",
   "name": "python3"
  },
  "language_info": {
   "codemirror_mode": {
    "name": "ipython",
    "version": 3
   },
   "file_extension": ".py",
   "mimetype": "text/x-python",
   "name": "python",
   "nbconvert_exporter": "python",
   "pygments_lexer": "ipython3",
   "version": "3.9.7"
  }
 },
 "nbformat": 4,
 "nbformat_minor": 5
}
