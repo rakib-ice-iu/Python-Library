{
 "cells": [
  {
   "cell_type": "markdown",
   "id": "e85f2352",
   "metadata": {},
   "source": [
    "# Creating 1D array"
   ]
  },
  {
   "cell_type": "markdown",
   "id": "604f9574",
   "metadata": {},
   "source": [
    "### Method 1:"
   ]
  },
  {
   "cell_type": "code",
   "execution_count": 1,
   "id": "4db9da98",
   "metadata": {},
   "outputs": [],
   "source": [
    "import numpy as np"
   ]
  },
  {
   "cell_type": "code",
   "execution_count": 4,
   "id": "7699a3d2",
   "metadata": {},
   "outputs": [
    {
     "name": "stdout",
     "output_type": "stream",
     "text": [
      "List --> [1, 2, 3, 4, 5]\n",
      "NumPy array --> [1 2 3 4 5]\n"
     ]
    }
   ],
   "source": [
    "a = [1,2,3,4,5]\n",
    "arr_1 = np.array(a)\n",
    "\n",
    "print(\"List -->\", a)\n",
    "print(\"NumPy array -->\", arr_1)"
   ]
  },
  {
   "cell_type": "markdown",
   "id": "0496fc05",
   "metadata": {},
   "source": [
    "### Method 2:"
   ]
  },
  {
   "cell_type": "code",
   "execution_count": 5,
   "id": "24a8355a",
   "metadata": {},
   "outputs": [
    {
     "name": "stdout",
     "output_type": "stream",
     "text": [
      "[1 2 3 4 5]\n"
     ]
    }
   ],
   "source": [
    "array_2 = np.array ([1,2,3,4,5])\n",
    "print(array_2)"
   ]
  },
  {
   "cell_type": "markdown",
   "id": "d2d7fa3c",
   "metadata": {},
   "source": [
    "### Method 3:"
   ]
  },
  {
   "cell_type": "code",
   "execution_count": 9,
   "id": "8d486825",
   "metadata": {},
   "outputs": [
    {
     "name": "stdout",
     "output_type": "stream",
     "text": [
      "\n",
      "Enter the length of array: 2\n",
      "Enter the value of array: 2\n",
      "Enter the value of array: 2\n",
      "[2 2]\n"
     ]
    }
   ],
   "source": [
    "# Take value from user\n",
    "\n",
    "a = []\n",
    "print()\n",
    "lenght = int(input(\"Enter the length of array: \"))\n",
    "for i in range(lenght):\n",
    "    value = int(input(\"Enter the value of array: \"))\n",
    "    a.append(value)\n",
    "\n",
    "arr_3 = np.array(a)\n",
    "print(arr_3)"
   ]
  },
  {
   "cell_type": "code",
   "execution_count": 23,
   "id": "ab88f46d",
   "metadata": {},
   "outputs": [
    {
     "name": "stdout",
     "output_type": "stream",
     "text": [
      "Dimension of the array is  1\n",
      "Shape of the array is  (2,)\n"
     ]
    }
   ],
   "source": [
    "print(\"Dimension of the array is \", arr_3.ndim)\n",
    "print(\"Shape of the array is \", arr_3.shape)"
   ]
  },
  {
   "cell_type": "markdown",
   "id": "19a38f36",
   "metadata": {},
   "source": [
    "# Creating 2D array"
   ]
  },
  {
   "cell_type": "code",
   "execution_count": 10,
   "id": "7f19e514",
   "metadata": {},
   "outputs": [
    {
     "name": "stdout",
     "output_type": "stream",
     "text": [
      "[[1 2 3]\n",
      " [4 5 6]]\n"
     ]
    }
   ],
   "source": [
    "arr_4 = np.array([[1,2,3],[4,5,6]])\n",
    "print(arr_4)"
   ]
  },
  {
   "cell_type": "code",
   "execution_count": 21,
   "id": "a3ce1a9e",
   "metadata": {},
   "outputs": [
    {
     "name": "stdout",
     "output_type": "stream",
     "text": [
      "Enter the number of row: 2\n",
      "Enter the number of column: 3\n",
      "Enter the value: 1\n",
      "Enter the value: 2\n",
      "Enter the value: 3\n",
      "Enter the value: 4\n",
      "Enter the value: 5\n",
      "Enter the value: 6\n",
      "[[1 2 3]\n",
      " [4 5 6]]\n",
      "\n",
      "\n",
      "[1, 2, 3]\n",
      "[4, 5, 6]\n",
      "1\n",
      "4\n"
     ]
    }
   ],
   "source": [
    "# Take value from user\n",
    "\n",
    "matrix = []\n",
    "row = int(input(\"Enter the number of row: \"))\n",
    "col = int(input(\"Enter the number of column: \"))\n",
    "\n",
    "for i in range(row):\n",
    "    a = []\n",
    "    for j in range(col):\n",
    "        value = int(input(\"Enter the value: \"))\n",
    "        a.append(value)\n",
    "        \n",
    "    matrix.append(a)\n",
    "\n",
    "arr_5 = np.array(matrix)\n",
    "print(arr_5)\n",
    "print(\"\\n\")\n",
    "\n",
    "print(matrix[0])\n",
    "print(matrix[1])\n",
    "print(matrix[0][0])\n",
    "print(matrix[1][0])"
   ]
  },
  {
   "cell_type": "code",
   "execution_count": 24,
   "id": "943fe53e",
   "metadata": {},
   "outputs": [
    {
     "name": "stdout",
     "output_type": "stream",
     "text": [
      "Dimension of the array is  2\n",
      "Shape of the array is  (2, 3)\n"
     ]
    }
   ],
   "source": [
    "print(\"Dimension of the array is \", arr_5.ndim)\n",
    "print(\"Shape of the array is \", arr_5.shape)"
   ]
  },
  {
   "cell_type": "code",
   "execution_count": null,
   "id": "ea90d1fb",
   "metadata": {},
   "outputs": [],
   "source": []
  }
 ],
 "metadata": {
  "kernelspec": {
   "display_name": "Python 3 (ipykernel)",
   "language": "python",
   "name": "python3"
  },
  "language_info": {
   "codemirror_mode": {
    "name": "ipython",
    "version": 3
   },
   "file_extension": ".py",
   "mimetype": "text/x-python",
   "name": "python",
   "nbconvert_exporter": "python",
   "pygments_lexer": "ipython3",
   "version": "3.9.7"
  }
 },
 "nbformat": 4,
 "nbformat_minor": 5
}
